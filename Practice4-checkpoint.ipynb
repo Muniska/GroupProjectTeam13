{
 "cells": [
  {
   "cell_type": "code",
   "execution_count": 7,
   "metadata": {},
   "outputs": [
    {
     "name": "stdout",
     "output_type": "stream",
     "text": [
      "Good morning!\n"
     ]
    }
   ],
   "source": [
    "sun=\"up\"\n",
    "if sun == \"down\": \n",
    "    print(\"Good night!\")\n",
    "elif sun == \"up\":\n",
    "    print(\"Good morning!\")\n",
    "    \n",
    "\n",
    "    \n"
   ]
  },
  {
   "cell_type": "code",
   "execution_count": 16,
   "metadata": {},
   "outputs": [
    {
     "name": "stdout",
     "output_type": "stream",
     "text": [
      "Subtotal : $100.00\n",
      "Sales Tax: $6.50\n",
      "Total : $106.50 \n"
     ]
    }
   ],
   "source": [
    "total = 100\n",
    "sales_tax_rate = 0.065\n",
    "taxable = True\n",
    "if taxable:\n",
    "    print(f\"Subtotal : ${total:.2f}\")\n",
    "    sales_tax = total * sales_tax_rate\n",
    "    print(f\"Sales Tax: ${sales_tax:.2f}\")\n",
    "    total = total + sales_tax\n",
    "print(f\"Total : ${total:.2f} \")\n"
   ]
  },
  {
   "cell_type": "code",
   "execution_count": 17,
   "metadata": {},
   "outputs": [
    {
     "name": "stdout",
     "output_type": "stream",
     "text": [
      "Total : $100.00\n"
     ]
    }
   ],
   "source": [
    "total = 100\n",
    "sales_tax_rate = 0.065\n",
    "taxable = False\n",
    "if taxable:\n",
    "    print(f\"Subtotal : ${total:.2f}\")\n",
    "    sales_tax = total * sales_tax_rate\n",
    "    print(f\"Sales Tax: ${sales_tax:.2f}\")\n",
    "    total = total + sales_tax\n",
    "print(f\"Total : ${total:.2f}\")\n"
   ]
  },
  {
   "cell_type": "code",
   "execution_count": 18,
   "metadata": {},
   "outputs": [
    {
     "name": "stdout",
     "output_type": "stream",
     "text": [
      "Good morning\n",
      "I hope you are doing well!\n"
     ]
    }
   ],
   "source": [
    "import datetime as dt\n",
    "now=dt.datetime.now()\n",
    "if now.hour<12:\n",
    "    print(\"Good morning\")\n",
    "else:\n",
    "    print(\"Good afternoon\")\n",
    "print(\"I hope you are doing well!\")"
   ]
  },
  {
   "cell_type": "code",
   "execution_count": 20,
   "metadata": {},
   "outputs": [
    {
     "name": "stdout",
     "output_type": "stream",
     "text": [
      "Go\n",
      "This code executes no matter what\n"
     ]
    }
   ],
   "source": [
    "light_color = \"green\"\n",
    "if light_color == \"green\":\n",
    "    print(\"Go\")\n",
    "elif light_color == \"red\":\n",
    "    print(\"Stop\")\n",
    "print(\"This code executes no matter what\")\n"
   ]
  },
  {
   "cell_type": "code",
   "execution_count": 24,
   "metadata": {},
   "outputs": [
    {
     "name": "stdout",
     "output_type": "stream",
     "text": [
      "Proceed with caution\n",
      "This code executes no matter what\n"
     ]
    }
   ],
   "source": [
    "light_color = \"yellow\"\n",
    "if light_color == \"green\":\n",
    "    print(\"Go\")\n",
    "elif light_color == \"red\":\n",
    "    print(\"Stop\")\n",
    "else:\n",
    "    print(\"Proceed with caution\")\n",
    "print(\"This code executes no matter what\")\n"
   ]
  },
  {
   "cell_type": "code",
   "execution_count": 26,
   "metadata": {},
   "outputs": [
    {
     "name": "stdout",
     "output_type": "stream",
     "text": [
      "How old are u?34\n",
      "Have a beer\n"
     ]
    }
   ],
   "source": [
    "age = int(input(\"How old are u?\"))\n",
    "if age < 21:\n",
    "    beverage = \"milk\"\n",
    "elif age >= 21 and age < 80:\n",
    "    beverage = \"beer\"\n",
    "else:\n",
    "    beverage = \"prune juice\"\n",
    "print(\"Have a \" + beverage)\n"
   ]
  },
  {
   "cell_type": "code",
   "execution_count": 29,
   "metadata": {},
   "outputs": [
    {
     "name": "stdout",
     "output_type": "stream",
     "text": [
      "0\n",
      "1\n",
      "2\n",
      "3\n",
      "4\n",
      "All done\n"
     ]
    }
   ],
   "source": [
    "for x in range(5):\n",
    "    print(x)\n",
    "print(\"All done\")\n"
   ]
  },
  {
   "cell_type": "code",
   "execution_count": 31,
   "metadata": {},
   "outputs": [
    {
     "name": "stdout",
     "output_type": "stream",
     "text": [
      "-2\n",
      "-1\n",
      "0\n",
      "1\n",
      "2\n",
      "3\n",
      "All done\n"
     ]
    }
   ],
   "source": [
    "for x in range(-2, 4):\n",
    "    print(x)\n",
    "print(\"All done\")\n"
   ]
  },
  {
   "cell_type": "code",
   "execution_count": 33,
   "metadata": {},
   "outputs": [
    {
     "name": "stdout",
     "output_type": "stream",
     "text": [
      "M\n",
      "u\n",
      "n\n",
      "i\n",
      "s\n",
      "a\n"
     ]
    }
   ],
   "source": [
    "for x in \"Munisa\":\n",
    "    print(x)\n"
   ]
  },
  {
   "cell_type": "code",
   "execution_count": 34,
   "metadata": {},
   "outputs": [
    {
     "name": "stdout",
     "output_type": "stream",
     "text": [
      "The\n",
      "rain\n",
      "in\n",
      "Spain\n"
     ]
    }
   ],
   "source": [
    "for x in [\"The\", \"rain\", \"in\", \"Spain\"]:\n",
    "    print(x)\n"
   ]
  },
  {
   "cell_type": "code",
   "execution_count": 36,
   "metadata": {},
   "outputs": [
    {
     "name": "stdout",
     "output_type": "stream",
     "text": [
      "Happy\n",
      "Grumpy\n",
      "Sleepy\n",
      "Bashful\n",
      "Sneezy\n",
      "Doc\n",
      "Dopey\n",
      "and Snow White too\n"
     ]
    }
   ],
   "source": [
    "seven_dwarves=[\"Happy\", \"Grumpy\", \"Sleepy\", \"Bashful\", \"Sneezy\", \"Doc\", \"Dopey\"]\n",
    "for dwarf in seven_dwarves:\n",
    "    print(dwarf)\n",
    "print(\"and Snow White too\")\n",
    "               "
   ]
  },
  {
   "cell_type": "code",
   "execution_count": 38,
   "metadata": {},
   "outputs": [
    {
     "name": "stdout",
     "output_type": "stream",
     "text": [
      "A\n",
      "C\n",
      "Incomplete\n",
      "Loop is done\n"
     ]
    }
   ],
   "source": [
    "answers = [\"A\", \"C\", \"\", \"D\"]\n",
    "for answer in answers:\n",
    "    if answer == \"\":\n",
    "        print(\"Incomplete\")\n",
    "        break\n",
    "    print(answer)\n",
    "print(\"Loop is done\")\n"
   ]
  },
  {
   "cell_type": "code",
   "execution_count": 40,
   "metadata": {},
   "outputs": [
    {
     "name": "stdout",
     "output_type": "stream",
     "text": [
      "A\n",
      "C\n",
      "Incomplete\n",
      "D\n",
      "Loop is done\n"
     ]
    }
   ],
   "source": [
    "answers = [\"A\", \"C\", \"\", \"D\"]\n",
    "for answer in answers:\n",
    "    if answer == \"\":\n",
    "        print(\"Incomplete\")\n",
    "        continue\n",
    "    print(answer)\n",
    "print(\"Loop is done\")\n"
   ]
  },
  {
   "cell_type": "code",
   "execution_count": 44,
   "metadata": {},
   "outputs": [
    {
     "name": "stdout",
     "output_type": "stream",
     "text": [
      "First\n",
      "3\n",
      "4\n",
      "5\n",
      "Second\n",
      "3\n",
      "4\n",
      "5\n",
      "Third\n",
      "3\n",
      "4\n",
      "5\n",
      "Both loops are done\n"
     ]
    }
   ],
   "source": [
    "#outer loop\n",
    "for outer in [\"First\", \"Second\", \"Third\"]:\n",
    "    print(outer)\n",
    "    #Inner loop\n",
    "    for inner in range(3):\n",
    "        print(inner+3)\n",
    "print(\"Both loops are done\")\n"
   ]
  },
  {
   "cell_type": "code",
   "execution_count": 47,
   "metadata": {},
   "outputs": [
    {
     "name": "stdout",
     "output_type": "stream",
     "text": [
      "32= \n",
      "33=!\n",
      "34=\"\n",
      "35=#\n",
      "36=$\n",
      "37=%\n",
      "38=&\n",
      "39='\n",
      "40=(\n",
      "41=)\n",
      "42=*\n",
      "43=+\n",
      "44=,\n",
      "45=-\n",
      "46=.\n",
      "47=/\n",
      "48=0\n",
      "49=1\n",
      "50=2\n",
      "51=3\n",
      "52=4\n",
      "53=5\n",
      "54=6\n",
      "55=7\n",
      "56=8\n",
      "57=9\n",
      "58=:\n",
      "59=;\n",
      "60=<\n",
      "61==\n",
      "62=>\n",
      "63=?\n",
      "64=@\n",
      "65=A\n",
      "66=B\n",
      "67=C\n",
      "68=D\n",
      "69=E\n",
      "70=F\n",
      "71=G\n",
      "72=H\n",
      "73=I\n",
      "74=J\n",
      "75=K\n",
      "76=L\n",
      "77=M\n",
      "78=N\n",
      "79=O\n",
      "80=P\n",
      "81=Q\n",
      "82=R\n",
      "83=S\n",
      "84=T\n",
      "85=U\n",
      "86=V\n",
      "87=W\n",
      "88=X\n",
      "89=Y\n",
      "90=Z\n",
      "91=[\n",
      "92=\\\n",
      "93=]\n",
      "94=^\n",
      "95=_\n",
      "96=`\n",
      "97=a\n",
      "98=b\n",
      "99=c\n",
      "100=d\n",
      "101=e\n",
      "102=f\n",
      "103=g\n",
      "104=h\n",
      "105=i\n",
      "106=j\n",
      "107=k\n",
      "108=l\n",
      "109=m\n",
      "110=n\n",
      "111=o\n",
      "112=p\n",
      "113=q\n",
      "114=r\n",
      "115=s\n",
      "116=t\n",
      "117=u\n",
      "118=v\n",
      "119=w\n",
      "120=x\n",
      "121=y\n",
      "122=z\n",
      "123={\n",
      "124=|\n",
      "125=}\n",
      "126=~\n",
      "127=\n",
      "all done\n"
     ]
    }
   ],
   "source": [
    "# chr()function displays the ASCII character for whatever the number in counter\n",
    "counter=32\n",
    "while counter<128:\n",
    "    print(str(counter) + \"=\" +chr(counter))\n",
    "    counter += 1\n",
    "print(\"all done\")"
   ]
  },
  {
   "cell_type": "code",
   "execution_count": 48,
   "metadata": {},
   "outputs": [
    {
     "name": "stdout",
     "output_type": "stream",
     "text": [
      "odd numbers\n",
      "179\n",
      "909\n",
      "603\n",
      "87\n",
      "137\n",
      "271\n",
      "413\n",
      "735\n",
      "359\n",
      "563\n",
      "loop is done\n"
     ]
    }
   ],
   "source": [
    "import random\n",
    "print(\"odd numbers\")\n",
    "counter=0\n",
    "while counter < 10:\n",
    "    #get a random number\n",
    "    number=random.randint(1,999)\n",
    "    if int(number/2)==number/2:\n",
    "        #if it's an even number, don't print it.\n",
    "        continue\n",
    "    #otherwise, if it's odd, print it and increment the counter.\n",
    "    print(number)\n",
    "    #increment the loop counter.\n",
    "    counter +=1\n",
    "print(\"loop is done\")"
   ]
  },
  {
   "cell_type": "code",
   "execution_count": 55,
   "metadata": {},
   "outputs": [
    {
     "name": "stdout",
     "output_type": "stream",
     "text": [
      "Numbers that aren't evenly divisible by 5\n",
      "401\n",
      "276\n",
      "429\n",
      "257\n",
      "799\n",
      "Loop is done\n"
     ]
    }
   ],
   "source": [
    "import random\n",
    "print(\"Numbers that aren't evenly divisible by 5\")\n",
    "counter = 0\n",
    "while counter < 10:\n",
    "    # Get a random number\n",
    "    number = random.randint(1,999)\n",
    "    if int(number / 5) == number / 5:\n",
    "    # If it's evenly divisible by 5, bail out.\n",
    "        break\n",
    "    # Otherwise, print it and keep going for a while.\n",
    "    print(number)\n",
    "    # Increment the loop counter.\n",
    "    counter += 1\n",
    "print(\"Loop is done\")\n"
   ]
  },
  {
   "cell_type": "code",
   "execution_count": 57,
   "metadata": {},
   "outputs": [
    {
     "name": "stdout",
     "output_type": "stream",
     "text": [
      "90\n"
     ]
    }
   ],
   "source": [
    "scores = [88, 92, 78, 90, 84]\n",
    "print(scores[3])\n"
   ]
  },
  {
   "cell_type": "code",
   "execution_count": 59,
   "metadata": {},
   "outputs": [
    {
     "name": "stdout",
     "output_type": "stream",
     "text": [
      "88\n",
      "92\n",
      "78\n",
      "90\n",
      "55\n",
      "Done\n"
     ]
    }
   ],
   "source": [
    "scores=[88,92,78,90,55]\n",
    "for score in scores:\n",
    "    print(score)\n",
    "print(\"Done\")   "
   ]
  },
  {
   "cell_type": "code",
   "execution_count": 60,
   "metadata": {},
   "outputs": [
    {
     "name": "stdout",
     "output_type": "stream",
     "text": [
      "True\n",
      "False\n"
     ]
    }
   ],
   "source": [
    "students=[\"Mark\", \"Amber\", \"Todd\", \"Anita\", \"Sandy\"]\n",
    "has_anita=\"Anita\" in students\n",
    "print(has_anita)\n",
    "has_bob=\"Bob\" in students\n",
    "print(has_bob)"
   ]
  },
  {
   "cell_type": "code",
   "execution_count": 61,
   "metadata": {},
   "outputs": [
    {
     "name": "stdout",
     "output_type": "stream",
     "text": [
      "5\n"
     ]
    }
   ],
   "source": [
    "students = [\"Mark\", \"Amber\", \"Todd\", \"Anita\", \"Sandy\"]\n",
    "print(len(students))\n"
   ]
  },
  {
   "cell_type": "code",
   "execution_count": null,
   "metadata": {},
   "outputs": [],
   "source": []
  }
 ],
 "metadata": {
  "kernelspec": {
   "display_name": "Python 3",
   "language": "python",
   "name": "python3"
  },
  "language_info": {
   "codemirror_mode": {
    "name": "ipython",
    "version": 3
   },
   "file_extension": ".py",
   "mimetype": "text/x-python",
   "name": "python",
   "nbconvert_exporter": "python",
   "pygments_lexer": "ipython3",
   "version": "3.8.5"
  }
 },
 "nbformat": 4,
 "nbformat_minor": 4
}
