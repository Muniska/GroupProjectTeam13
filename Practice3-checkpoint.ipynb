{
 "cells": [
  {
   "cell_type": "code",
   "execution_count": 15,
   "metadata": {},
   "outputs": [
    {
     "name": "stdout",
     "output_type": "stream",
     "text": [
      "Abc\n",
      "39\n",
      "5\n",
      "18\n",
      "True\n",
      "abc\n",
      "a b c   \n",
      "a b c\n",
      "tHERE IS NO SUCH WORD AS SCHMEEDLEDORP\n",
      "There Is No Such Word As Schmeedledorp\n",
      "THERE IS NO SUCH WORD AS SCHMEEDLEDORP\n"
     ]
    }
   ],
   "source": [
    "s1=\"There is no such word as schmeedledorp\"\n",
    "s2=\"  a b c   \"\n",
    "s3=\"ABC\"\n",
    "s4=\"Hello... How are you.\"\n",
    "s5=\"Hello, How are you.\"\n",
    "# Capitalize first letter, the rest lowercase\n",
    "print(s3.capitalize())\n",
    "# Count the number of spaces in s1\n",
    "print(s1.count(\"\"))\n",
    "# Find the (nearest??) dot in s4\n",
    "print(s4.find(\".\"))\n",
    "print(s5.find(\".\"))\n",
    "#Is s2 all lowercase letters?\n",
    "print(s2.islower())\n",
    "#Convert s3 to all lowercase\n",
    "print(s3.lower())\n",
    "#String leading characters from s2\n",
    "print(s2.lstrip())\n",
    "#String leading and trailing characters from s2\n",
    "print(s2.strip())\n",
    "#Swap the case of letters in s1\n",
    "print(s1.swapcase())\n",
    "#Show s1 in title case (initial caps)\n",
    "print(s1.title())\n",
    "#Show s1 uppercase\n",
    "print(s1.upper())\n"
   ]
  },
  {
   "cell_type": "code",
   "execution_count": 17,
   "metadata": {},
   "outputs": [
    {
     "name": "stdout",
     "output_type": "stream",
     "text": [
      "2021-06-06\n",
      "2019-12-31\n",
      "12\n",
      "31\n",
      "2019\n"
     ]
    }
   ],
   "source": [
    "import datetime as dt\n",
    "today=dt.date.today()\n",
    "last_of_teens=dt.date(2019,12,31)\n",
    "print(today)\n",
    "print(last_of_teens)\n",
    "print(last_of_teens.month)\n",
    "print(last_of_teens.day)\n",
    "print(last_of_teens.year)\n"
   ]
  },
  {
   "cell_type": "code",
   "execution_count": 80,
   "metadata": {},
   "outputs": [
    {
     "name": "stdout",
     "output_type": "stream",
     "text": [
      " Sun, Jun 06 2021\n",
      " 06/06/21\n",
      " 06-06-21\n",
      " This Sunday June 06\n",
      " Sunday June 06 is day number 157 of 2021\n",
      " Sunday, June 06 at 12:00AM\n",
      " 06/06/21 at 12:00 AM\n",
      " 06/06/21 at 00:00AM\n",
      " 12:00 AM on Jun 06\n",
      " Sun Jun  6 00:00:00 2021\n",
      " 12:00 AM on 06/06/21\n",
      "00:00:00\n",
      "23:59:59.999999\n",
      "2021-06-06 23:03:39.613457\n",
      " 11:03 PM\n",
      " 23:03:39 and 613457 microseconds\n",
      " 23:03:39\n",
      "My time: 11:03 PM\n",
      "UTC time: 06:03 PM\n",
      "Difference: -1 day, 19:00:00\n"
     ]
    }
   ],
   "source": [
    "# %a -  Weekday, abbreviated -  Sun\n",
    "# %A -  Weekday, full - Sunday\n",
    "# %w -  Weekday number 0-6, where 0 is Sunday - 0\n",
    "# %d -  Number day of the month 01-31 -  31\n",
    "# %b -  Month name abbreviated - Jan\n",
    "# %B -  Month name full - January\n",
    "# %m -  Month number 01-12 - 01\n",
    "# %y -  Year without century - 19\n",
    "# %Y -  Year with century - 2019\n",
    "# %H -  Hour 00-23 - 23\n",
    "# %I - Hour 00-12 - 11\n",
    "# %p -  AM/PM - PM\n",
    "# %M -  Minute 00-59 - 01\n",
    "# %S -  Second 00-59 - 01\n",
    "# %f -  Microsecond 000000-999999 -  495846\n",
    "# %z -  UTC offset -  -0500\n",
    "# %Z -  Time zone -  EST\n",
    "# %j -  Day number of year 001-366 -300\n",
    "# %U -  Week number of year, Sunday as the first day of week, 00-53  -  50\n",
    "# %W -  Week number of year, Monday as the first day of week, 00-53  -  50\n",
    "# %c -  Local version of date and time -Tue Dec 31 23:59:59 2018\n",
    "# %x -  Local version of date -  12/31/18\n",
    "# %X -  Local version of time -  23:59:59 \n",
    "# %% -  A % character -  %\n",
    "\n",
    "import datetime as dt\n",
    "today=dt.date.today()\n",
    "\n",
    "print(f\"{today: %a, %b %d %Y}\")\n",
    "print(f\"{today: %x}\")\n",
    "print(f\"{today: %m-%d-%y}\")\n",
    "print(f\"{today: This %A %B %d}\")\n",
    "print(f\"{today: %A %B %d is day number %j of %Y}\")\n",
    "print(f\"{today: %A, %B %d at %I:%M%p}\")\n",
    "print(f\"{today: %m/%d/%y at %I:%M %p}\")\n",
    "print(f\"{today: %m/%d/%y at %H:%M%p}\")\n",
    "print(f\"{today: %I:%M %p on %b %d}\")\n",
    "print(f\"{today: %c}\")\n",
    "print(f\"{today: %I:%M %p on %m/%d/%y}\")\n",
    " \n",
    "\n",
    "midnight = dt.time()\n",
    "print(midnight)\n",
    "\n",
    "almost_midnight = dt.time(23,59,59,999999)\n",
    "print(almost_midnight)\n",
    "\n",
    "right_now = dt.datetime.now()\n",
    "print(right_now)\n",
    "print(f\"{right_now: %I:%M %p}\")\n",
    "print(f\"{right_now: %H:%M:%S and %f microseconds}\")\n",
    "print(f\"{right_now: %X}\")\n",
    "\n",
    "utc_now=dt.datetime.utcnow()\n",
    "time_difference=(utc_now-right_now)\n",
    "print(f\"My time:{right_now: %I:%M %p}\")\n",
    "print(f\"UTC time:{utc_now: %I:%M %p}\")\n",
    "print(f\"Difference: {time_difference}\")\n"
   ]
  },
  {
   "cell_type": "code",
   "execution_count": 46,
   "metadata": {},
   "outputs": [
    {
     "name": "stdout",
     "output_type": "stream",
     "text": [
      "2021-12-31 23:59:00\n"
     ]
    }
   ],
   "source": [
    "# datetime(year, month, day, hour, [minute, [second, [microsecond]]])\n",
    "\n",
    "import datetime as dt\n",
    "new_years_eve = dt.datetime(2021,12,31,23,59)\n",
    "print(new_years_eve)\n"
   ]
  },
  {
   "cell_type": "code",
   "execution_count": 51,
   "metadata": {},
   "outputs": [
    {
     "name": "stdout",
     "output_type": "stream",
     "text": [
      "146 days, 0:00:00\n"
     ]
    }
   ],
   "source": [
    "import datetime as dt\n",
    "new_years_day = dt.date(2019,1,1)\n",
    "memorial_day = dt.date(2019,5,27)\n",
    "days_between = memorial_day - new_years_day\n",
    "print(days_between)\n"
   ]
  },
  {
   "cell_type": "code",
   "execution_count": 52,
   "metadata": {},
   "outputs": [
    {
     "name": "stdout",
     "output_type": "stream",
     "text": [
      "2019-05-27\n"
     ]
    }
   ],
   "source": [
    "import datetime as dt\n",
    "new_years_day = dt.date(2019,1,1)\n",
    "duration = dt.timedelta(days=146)\n",
    "print(new_years_day + duration)\n",
    "\n"
   ]
  },
  {
   "cell_type": "code",
   "execution_count": 67,
   "metadata": {},
   "outputs": [
    {
     "name": "stdout",
     "output_type": "stream",
     "text": [
      "  08/23/22 22:35:23 \n"
     ]
    }
   ],
   "source": [
    "import datetime as dt\n",
    "right_now = dt.datetime.now()\n",
    "duration=dt.timedelta( days=443, microseconds=34543)\n",
    "print(f\"{right_now+duration:  %m/%d/%y %H:%M:%S} \")\n"
   ]
  },
  {
   "cell_type": "code",
   "execution_count": 68,
   "metadata": {},
   "outputs": [
    {
     "name": "stdout",
     "output_type": "stream",
     "text": [
      "6:34:45\n",
      "<class 'datetime.timedelta'>\n"
     ]
    }
   ],
   "source": [
    "import datetime as dt\n",
    "start_time = dt.datetime(2019, 3, 31, 8, 0, 0)\n",
    "finish_time = dt.datetime(2019, 3, 31, 14, 34, 45)\n",
    "time_between = finish_time - start_time\n",
    "print(time_between)\n",
    "print(type(time_between))\n"
   ]
  },
  {
   "cell_type": "code",
   "execution_count": 75,
   "metadata": {},
   "outputs": [
    {
     "name": "stdout",
     "output_type": "stream",
     "text": [
      "12493 days, 8:48:23.441915\n"
     ]
    }
   ],
   "source": [
    "import datetime as dt\n",
    "now = dt.datetime.now()\n",
    "birthdatetime = dt.datetime(1987, 3, 24, 14,00)\n",
    "age = now - birthdatetime\n",
    "print(age)\n"
   ]
  },
  {
   "cell_type": "code",
   "execution_count": 78,
   "metadata": {},
   "outputs": [
    {
     "name": "stdout",
     "output_type": "stream",
     "text": [
      "12493 days, 0:00:00\n",
      "12493 <class 'int'>\n",
      "34\n",
      "You are 34 years and 2 months old.\n"
     ]
    }
   ],
   "source": [
    "import datetime as dt\n",
    "today = dt.date.today()\n",
    "birthdate = dt.date(1987, 3, 24)\n",
    "delta_age = (today - birthdate)\n",
    "print(delta_age)\n",
    "days_old = delta_age.days\n",
    "print(days_old, type(days_old))\n",
    "years_old = days_old // 365\n",
    "print(years_old)\n",
    "months=(days_old%365)//30\n",
    "print(f\"You are {years_old} years and {months} months old.\")\n"
   ]
  },
  {
   "cell_type": "code",
   "execution_count": 83,
   "metadata": {},
   "outputs": [
    {
     "name": "stdout",
     "output_type": "stream",
     "text": [
      "Sunday 06/06/21 11:20 PM \n",
      "Sunday 06/06/21 02:20 PM EDT\n",
      "Sunday 06/06/21 01:20 PM CDT\n",
      "Sunday 06/06/21 12:20 PM MDT\n",
      "Sunday 06/06/21 11:20 AM PDT\n"
     ]
    }
   ],
   "source": [
    "import datetime as dt\n",
    "from dateutil.tz import gettz\n",
    "right_now = dt.datetime.now()\n",
    "# UTC time right now\n",
    "utc=dt.datetime.now(gettz('ETC/UTC'))\n",
    "print(f\"{utc:%A %D %I:%M %p %Z}\")\n",
    "# USA Eastern time\n",
    "est=dt.datetime.now(gettz('America/New_York'))\n",
    "print(f\"{est:%A %D %I:%M %p %Z}\")\n",
    "# USA Central time\n",
    "cst=dt.datetime.now(gettz('America/Chicago'))\n",
    "print(f\"{cst:%A %D %I:%M %p %Z}\")\n",
    "# USA Mountain time\n",
    "mst=dt.datetime.now(gettz('America/Boise'))\n",
    "print(f\"{mst:%A %D %I:%M %p %Z}\")\n",
    "\n",
    "pst=dt.datetime.now(gettz('America/Los_Angeles'))\n",
    "print(f\"{pst:%A %D %I:%M %p %Z}\")\n",
    " "
   ]
  },
  {
   "cell_type": "code",
   "execution_count": 5,
   "metadata": {},
   "outputs": [
    {
     "name": "stdout",
     "output_type": "stream",
     "text": [
      "Local: 06/08/21 07:23 AM \n",
      "\n",
      "2021-07-04 19:00:00+05:00\n"
     ]
    }
   ],
   "source": [
    "# Show local date and time\n",
    "import datetime as dt\n",
    "from dateutil.tz import gettz\n",
    "right_now = dt.datetime.now()\n",
    "print(\"Local: \" + f\"{right_now:%D %I:%M %p %Z}\" + \"\\n\")\n",
    "event=dt.datetime(2021,7,4,19,0,0)\n",
    "name = event.astimezone(gettz(\"tzname\"))\n",
    "print(name)\n"
   ]
  }
 ],
 "metadata": {
  "kernelspec": {
   "display_name": "Python 3",
   "language": "python",
   "name": "python3"
  },
  "language_info": {
   "codemirror_mode": {
    "name": "ipython",
    "version": 3
   },
   "file_extension": ".py",
   "mimetype": "text/x-python",
   "name": "python",
   "nbconvert_exporter": "python",
   "pygments_lexer": "ipython3",
   "version": "3.8.5"
  }
 },
 "nbformat": 4,
 "nbformat_minor": 4
}
