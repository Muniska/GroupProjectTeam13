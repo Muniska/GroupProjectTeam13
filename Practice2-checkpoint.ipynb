{
 "cells": [
  {
   "cell_type": "code",
   "execution_count": 1,
   "metadata": {},
   "outputs": [
    {
     "name": "stdout",
     "output_type": "stream",
     "text": [
      "1\n"
     ]
    }
   ],
   "source": [
    "# Rounds the number x to y number of decimal places.\n",
    "\n",
    "q=56/78\n",
    "r=round(q)\n",
    "print(r)"
   ]
  },
  {
   "cell_type": "code",
   "execution_count": 2,
   "metadata": {},
   "outputs": [
    {
     "name": "stdout",
     "output_type": "stream",
     "text": [
      "Enter your name:Munisa\n",
      "How many items?12\n",
      "Cost per item?12.30\n"
     ]
    }
   ],
   "source": [
    "name=input(\"Enter your name:\")\n",
    "quantity=int(input(\"How many items?\"))\n",
    "price=float(input(\"Cost per item?\"))\n"
   ]
  },
  {
   "cell_type": "code",
   "execution_count": 1,
   "metadata": {},
   "outputs": [
    {
     "name": "stdout",
     "output_type": "stream",
     "text": [
      "301.8691769624716\n"
     ]
    }
   ],
   "source": [
    "import math\n",
    "y=45**3\n",
    "z=math.sqrt(y)\n",
    "print(z)\n"
   ]
  },
  {
   "cell_type": "code",
   "execution_count": 3,
   "metadata": {},
   "outputs": [
    {
     "name": "stdout",
     "output_type": "stream",
     "text": [
      "134.57\n",
      "Monoko ate 45 cookies!\n"
     ]
    }
   ],
   "source": [
    "# format specifier-f, d, i, s: .2f is used to indicate that a value should be formatted as a floating-point number with two digits to the right of the decimal point\n",
    "# % is prepended after correct formatting applied, e.g. %8d, The amount owing is %.2f\n",
    "\n",
    "x=134.567\n",
    "numCookies=45.5\n",
    "name=\"Monoko\"\n",
    "print(\"%.2f\" %x)\n",
    "print(\"%s ate %d cookies!\" %(name, numCookies))\n"
   ]
  },
  {
   "cell_type": "code",
   "execution_count": 5,
   "metadata": {},
   "outputs": [
    {
     "name": "stdout",
     "output_type": "stream",
     "text": [
      "134\n",
      "-2.750000\n",
      "134 and -2.750000\n",
      "134.5680\n",
      "-2.8\n",
      "     Naomi\n",
      "Naomi\n",
      "     134      -2\n"
     ]
    }
   ],
   "source": [
    "x=134.56799\n",
    "y=-2.75\n",
    "z=\"Naomi\"\n",
    "print(\"%d\" % x)\n",
    "print(\"%f\" % y)\n",
    "print(\"%d and %f\" %(x,y))\n",
    "print(\"%.4f\" % x)\n",
    "print(\"%.1f\" %y)\n",
    "print(\"%10s\" % z)\n",
    "print(\"%4s\" % z)\n",
    "print(\"%8i%8i\" % (x,y))"
   ]
  },
  {
   "cell_type": "code",
   "execution_count": 6,
   "metadata": {},
   "outputs": [
    {
     "name": "stdout",
     "output_type": "stream",
     "text": [
      "Enter the first name: Munisa\n",
      "Enter the last name: Abdukarimova\n",
      "Abdukarimova, Munisa\n"
     ]
    }
   ],
   "source": [
    "#concatenating two strings\n",
    "\n",
    "first = input(\"Enter the first name: \")\n",
    "last = input(\"Enter the last name: \")\n",
    "both = last + \", \" + first\n",
    "print(both)\n",
    "\n",
    "\n"
   ]
  },
  {
   "cell_type": "code",
   "execution_count": 1,
   "metadata": {},
   "outputs": [
    {
     "name": "stdout",
     "output_type": "stream",
     "text": [
      "Type in the word: Clap your hands!\n",
      "This word contains 16 characters\n"
     ]
    }
   ],
   "source": [
    "#computing the length os the string\n",
    "\n",
    "first = input(\"Type in the word: \")\n",
    "num_chars = len(first)\n",
    "print(\"This word contains\", num_chars, \"characters\")\n"
   ]
  },
  {
   "cell_type": "code",
   "execution_count": 2,
   "metadata": {},
   "outputs": [
    {
     "name": "stdout",
     "output_type": "stream",
     "text": [
      "Enter your first name: Munisa\n",
      "Enter your middle name: Abdunabiyevna\n",
      "Enter your last name: Abdukarimova\n",
      "Your initials are MAA\n"
     ]
    }
   ],
   "source": [
    "#Extracting the first character from each string and concatenating\n",
    "\n",
    "first = input(\"Enter your first name: \")\n",
    "middle = input(\"Enter your middle name: \")\n",
    "last = input(\"Enter your last name: \")\n",
    "initials = first[0] + middle[0] + last[0]\n",
    "print(\"Your initials are\", initials)\n",
    "\n"
   ]
  },
  {
   "cell_type": "code",
   "execution_count": 3,
   "metadata": {},
   "outputs": [
    {
     "name": "stdout",
     "output_type": "stream",
     "text": [
      "Enter the length of the room in feet: 100\n",
      "Enter the width of the room in feet: 40\n",
      "The area of the room is 4000.0 square feet\n"
     ]
    }
   ],
   "source": [
    "#computing the area of the room\n",
    "length = float(input(\"Enter the length of the room in feet: \"))\n",
    "width = float(input(\"Enter the width of the room in feet: \"))\n",
    "area = length * width\n",
    "print(\"The area of the room is\", area, \"square feet\")\n"
   ]
  },
  {
   "cell_type": "code",
   "execution_count": 5,
   "metadata": {},
   "outputs": [
    {
     "name": "stdout",
     "output_type": "stream",
     "text": [
      "How many containers 1 litre or less? 5\n",
      "How many containers more than 1 litre? 12\n",
      "Your total refund will be $3.50.\n"
     ]
    }
   ],
   "source": [
    "#a small deposit is added to drink containers to encourage people to recycle them\n",
    "LESS_DEPOSIT = 0.10\n",
    "MORE_DEPOSIT = 0.25\n",
    "less = int(input(\"How many containers 1 litre or less? \"))\n",
    "more = int(input(\"How many containers more than 1 litre? \"))\n",
    "refund = less * LESS_DEPOSIT + more * MORE_DEPOSIT\n",
    "print(\"Your total refund will be $%.2f.\" % refund)\n",
    "\n"
   ]
  },
  {
   "cell_type": "code",
   "execution_count": 32,
   "metadata": {},
   "outputs": [
    {
     "name": "stdout",
     "output_type": "stream",
     "text": [
      "Enter the cost of the meal: 423\n",
      "The tax is 21.15 and the tip is 76.14, making the total 520.29\n"
     ]
    }
   ],
   "source": [
    "# this program will compute the tax and tip for the meal ordered at a restaurant from the user\n",
    "TAX_RATE = 0.05\n",
    "TIP_RATE = 0.18\n",
    "cost = float(input(\"Enter the cost of the meal: \"))\n",
    "tax = cost * TAX_RATE\n",
    "tip = cost * TIP_RATE\n",
    "total = cost + tax + tip\n",
    "\n",
    "print(\"The tax is %.2f and the tip is %.2f, making the total %.2f\" %(tax,tip,total))\n",
    "\n"
   ]
  },
  {
   "cell_type": "code",
   "execution_count": 35,
   "metadata": {},
   "outputs": [
    {
     "name": "stdout",
     "output_type": "stream",
     "text": [
      "Enter a positive integer: 55\n",
      "The sum of the first 55 positive integers is 1540.0\n"
     ]
    }
   ],
   "source": [
    "# Compute the sum of the first n positive integers\n",
    "\n",
    "n = int(input(\"Enter a positive integer: \"))\n",
    "sm = n * (n + 1) / 2\n",
    "print(\"The sum of the first\", n, \"positive integers is\", sm)\n",
    "\n",
    "\n",
    "\n"
   ]
  },
  {
   "cell_type": "code",
   "execution_count": 36,
   "metadata": {},
   "outputs": [
    {
     "name": "stdout",
     "output_type": "stream",
     "text": [
      "Enter the value of a: 10\n",
      "Enter the value of b: 2\n",
      "10 + 2 is 12\n",
      "10 - 2 is 8\n",
      "10 * 2 is 20\n",
      "10 / 2 is 5.0\n",
      "10 % 2 is 0\n",
      "The base 10 logarithm of 10 is 1.0\n",
      "10 ^ 2 is 100\n"
     ]
    }
   ],
   "source": [
    "# Compute and display the sum, difference, product, quotient and remainder\n",
    "\n",
    "from math import log10\n",
    "a = int(input(\"Enter the value of a: \"))\n",
    "b = int(input(\"Enter the value of b: \"))\n",
    "print(a, \"+\", b, \"is\", a+b)\n",
    "print(a, \"-\", b, \"is\", a-b)\n",
    "print(a, \"*\", b, \"is\", a*b)\n",
    "print(a, \"/\", b, \"is\", a/b)\n",
    "print(a, \"%\", b, \"is\", a%b)\n",
    "print(\"The base 10 logarithm of\", a, \"is\", log10(a))\n",
    "print(a, \"^\", b, \"is\", a**b)\n"
   ]
  },
  {
   "cell_type": "code",
   "execution_count": 42,
   "metadata": {},
   "outputs": [
    {
     "name": "stdout",
     "output_type": "stream",
     "text": [
      "Enter the latitude and longitude of two points on the Earth in degrees:\n",
      " Latitude 1: 41.317\n",
      " Latitude 2: 35.7\n",
      " Longitude 1: 69.25\n",
      " Longitude 2: 139.767\n",
      "Distance is:  5997.3469816092465 Kilometers\n"
     ]
    }
   ],
   "source": [
    "#distance = 6371.01 × arccos(sin(t1) × sin(t2) + cos(t1) × cos(t2) × cos(g1 − g2))\n",
    "#distance between Uzbekistan and Japan:Uz(41.317,69.25) and Jap(35.7, 139.767)\n",
    "#Python's program to calculate Distance Between Two Points on Earth\n",
    "\n",
    "from math import radians, cos, sin, asin, sqrt\n",
    " \n",
    "#Read the input from user\n",
    "print(\"Enter the latitude and longitude of two points on the Earth in degrees:\")\n",
    "lat1 = float(input(\" Latitude 1: \"))\n",
    "lat2 = float(input(\" Latitude 2: \"))\n",
    "lon1 = float(input(\" Longitude 1: \"))\n",
    "lon2 = float(input(\" Longitude 2: \"))\n",
    " \n",
    "# The math module contains a function named radians which converts from degrees to radians.\n",
    "lon1 = radians(lon1)\n",
    "lon2 = radians(lon2)\n",
    "lat1 = radians(lat1)\n",
    "lat2 = radians(lat2)\n",
    " \n",
    "# Haversine formula \n",
    "dlon = lon2 - lon1 \n",
    "dlat = lat2 - lat1 \n",
    "a = sin(dlat/2)**2 + cos(lat1) * cos(lat2) * sin(dlon/2)**2\n",
    "c = 2 * asin(sqrt(a)) \n",
    "r = 6371 # Radius of earth in kilometers. Use 3956 for miles\n",
    " \n",
    "#Display the result\n",
    "print(\"Distance is: \",c*r,\"Kilometers\")\n"
   ]
  },
  {
   "cell_type": "code",
   "execution_count": 47,
   "metadata": {},
   "outputs": [
    {
     "name": "stdout",
     "output_type": "stream",
     "text": [
      "Enter the number of cents: 1354\n",
      "  6 toonies\n",
      "  1 loonies\n",
      "  2 quarters\n",
      "  0 dimes\n",
      "  0 nickels\n",
      "  4 pennies\n"
     ]
    }
   ],
   "source": [
    "# determining how much change to provide when the shopper pays for a purchase with cash\n",
    "\n",
    "# Compute the minimum collection of coins needed to represent a number of cents.\n",
    "#\n",
    "CENTS_PER_TOONIE = 200\n",
    "CENTS_PER_LOONIE = 100\n",
    "CENTS_PER_QUARTER = 25\n",
    "CENTS_PER_DIME = 10\n",
    "CENTS_PER_NICKEL = 5\n",
    "\n",
    "cents = int(input(\"Enter the number of cents: \"))\n",
    "\n",
    "print(\" \", cents // CENTS_PER_TOONIE, \"toonies\")\n",
    "cents = cents % CENTS_PER_TOONIE\n",
    "print(\" \", cents // CENTS_PER_LOONIE, \"loonies\")\n",
    "cents = cents % CENTS_PER_LOONIE\n",
    "print(\" \", cents // CENTS_PER_QUARTER, \"quarters\")\n",
    "cents = cents % CENTS_PER_QUARTER\n",
    "print(\" \", cents // CENTS_PER_DIME, \"dimes\")\n",
    "cents = cents % CENTS_PER_DIME\n",
    "print(\" \", cents // CENTS_PER_NICKEL, \"nickels\")\n",
    "cents = cents % CENTS_PER_NICKEL\n",
    "print(\" \", cents, \"pennies\")\n",
    "\n",
    "\n"
   ]
  },
  {
   "cell_type": "code",
   "execution_count": 58,
   "metadata": {},
   "outputs": [
    {
     "name": "stdout",
     "output_type": "stream",
     "text": [
      "Enter your height:\n",
      " Number of feet: 5\n",
      " Number of inches: 4\n",
      "Your height in centimeters is: 162.56\n"
     ]
    }
   ],
   "source": [
    "#height units\n",
    "#Hint: One foot is 12 inches. One inch is 2.54 centimeters.\n",
    "\n",
    "IN_PER_FT = 12\n",
    "CM_PER_IN = 2.54\n",
    "print(\"Enter your height:\")\n",
    "feet = int(input(\" Number of feet: \"))\n",
    "inches = int(input(\" Number of inches: \"))\n",
    "cm = (feet * IN_PER_FT + inches) * CM_PER_IN\n",
    "print(\"Your height in centimeters is:\", cm)\n",
    "\n",
    "\n",
    "\n",
    "\n"
   ]
  },
  {
   "cell_type": "code",
   "execution_count": 59,
   "metadata": {},
   "outputs": [
    {
     "name": "stdout",
     "output_type": "stream",
     "text": [
      " Enter the radius of the circle: 45\n",
      "6361.725123519331\n",
      "381703.5074111598\n"
     ]
    }
   ],
   "source": [
    "#area and volume\n",
    "\n",
    "from math import pi\n",
    "\n",
    "r = int(input(\" Enter the radius of the circle: \"))\n",
    "area = pi * r**2\n",
    "volume = 4/3 * pi * r**3\n",
    "\n",
    "print(area)\n",
    "print(volume)\n"
   ]
  },
  {
   "cell_type": "code",
   "execution_count": 61,
   "metadata": {},
   "outputs": [
    {
     "name": "stdout",
     "output_type": "stream",
     "text": [
      "Amount of water in milliliters: 4000\n",
      "Temperature increase (degrees Celsius): 10\n",
      "That will require 167440 Joules of energy.\n",
      "That much energy will cost 0.41 cents.\n"
     ]
    }
   ],
   "source": [
    "##\n",
    "# Compute the amount of energy needed to heat a volume of water, and the cost of doing so.\n",
    "#\n",
    "# Define constants for the specific heat capacity of water and the price of electricity\n",
    "\n",
    "WATER_HEAT_CAPACITY = 4.186\n",
    "ELECTRICITY_PRICE = 8.9\n",
    "J_TO_KWH = 2.777e-7\n",
    "\n",
    "# Python allows numbers to be written in scientific notation by placing the coefficient to the left of an e and the exponent to its right. As a result, 2.777 ∗ 10−7 is written as 2.777e-7.\n",
    "\n",
    "# Read the volume and temperature increase from the user\n",
    "volume = float(input(\"Amount of water in milliliters: \"))\n",
    "d_temp = float(input(\"Temperature increase (degrees Celsius): \"))\n",
    "\n",
    "# Because water has a density of 1 gram per milliliter grams and milliliters can be used interchangeably. Prompting the user for milliliters makes the program easier to use because most people think about the volume of water in a coffee cup, not its mass.\n",
    "# Compute the energy in Joules: q = mCΔT\n",
    "\n",
    "q = volume * d_temp * WATER_HEAT_CAPACITY\n",
    "\n",
    "# Display the result in Joules\n",
    "print(\"That will require %d Joules of energy.\" % q)\n",
    "\n",
    "# Compute the cost\n",
    "kwh = q * J_TO_KWH\n",
    "cost = kwh * ELECTRICITY_PRICE\n",
    "\n",
    "# Display the cost\n",
    "print(\"That much energy will cost %.2f cents.\" % cost)\n"
   ]
  },
  {
   "cell_type": "code",
   "execution_count": 3,
   "metadata": {},
   "outputs": [
    {
     "name": "stdout",
     "output_type": "stream",
     "text": [
      "Height (in meters): 10\n",
      "It will hit the ground at 14.00 m/s.\n"
     ]
    }
   ],
   "source": [
    "#determine how quickly an object is travelling when it hits the ground\n",
    "# Because the object is dropped its initial speed is 0 m/s. Assume that the acceleration due to gravity is 9.8 m/s2 . You can use the formula vf = (vi**2 + 2*ad)**(1/2) to compute the final speed, vf , when the initial speed, vi , acceleration, a, and distance, d, are known.\n",
    "\n",
    "from math import sqrt\n",
    "GRAVITY = 9.8\n",
    "\n",
    "# Read the height from which the object is dropped\n",
    "d = float(input(\"Height (in meters): \"))\n",
    "\n",
    "# Compute the final velocity\n",
    "vf = sqrt(2 * GRAVITY * d)\n",
    "\n",
    "print(\"It will hit the ground at %.2f m/s.\" % vf)\n",
    "\n"
   ]
  },
  {
   "cell_type": "code",
   "execution_count": 5,
   "metadata": {},
   "outputs": [
    {
     "name": "stdout",
     "output_type": "stream",
     "text": [
      "2607304.145287678\n"
     ]
    }
   ],
   "source": [
    "#ideal gas law\n",
    "#PV=nRT, where P is the pressure in Pascals, V is the volume in liters, n is the amount of substance in moles, R is the ideal gas constant, equal to 8.314*J/mol K, and T is thetemperature in degrees Kelvin.\n",
    "R=.314 #J/mol K\n",
    "V=12 #ltr\n",
    "P=20000000 #Pascals\n",
    "T_c=20 #celsius\n",
    "T_f=68 #fahrenheit\n",
    "T_Kelvin=T_c+273.15\n",
    "T_Kelvin=(T_f-32)*(5/9) + 273.15\n",
    "n=(P*V)/(R*T_Kelvin)\n",
    "print(n)\n",
    "\n",
    "\n",
    "\n",
    "\n"
   ]
  },
  {
   "cell_type": "code",
   "execution_count": 6,
   "metadata": {},
   "outputs": [
    {
     "name": "stdout",
     "output_type": "stream",
     "text": [
      "Enter the length of the triangle:35\n",
      "Enter the height of the triangle:12\n",
      "210.0\n"
     ]
    }
   ],
   "source": [
    "# area of a triangle\n",
    "# area=b*h/2\n",
    "b=int(input(\"Enter the length of the triangle:\"))\n",
    "h=int(input(\"Enter the height of the triangle:\"))\n",
    "area = b*h/2\n",
    "print(area)"
   ]
  },
  {
   "cell_type": "code",
   "execution_count": 7,
   "metadata": {},
   "outputs": [
    {
     "name": "stdout",
     "output_type": "stream",
     "text": [
      "Enter the length of one side of the triangle:12\n",
      "Enter the length of the second side of the triangle:14\n",
      "Enter the length of the third side of the triange:17\n",
      "83.0267276243018\n"
     ]
    }
   ],
   "source": [
    "# area of a triangle\n",
    "# s1,s2,s3 - lengths of the sides of the triangle\n",
    "from math import sqrt\n",
    "s1=int(input(\"Enter the length of one side of the triangle:\"))\n",
    "s2=int(input(\"Enter the length of the second side of the triangle:\"))\n",
    "s3=int(input(\"Enter the length of the third side of the triange:\"))\n",
    "s=(s1+s2+s3)/2\n",
    "area=sqrt(s*(s-s1)*(s-s2)*(s-s3))\n",
    "print(area)"
   ]
  },
  {
   "cell_type": "code",
   "execution_count": 10,
   "metadata": {},
   "outputs": [
    {
     "name": "stdout",
     "output_type": "stream",
     "text": [
      "Enter the number of the sides of the polygon:20\n",
      "Enter the length of a side of the polygon:3\n",
      "The area of the polygon is 284.118818160377\n"
     ]
    }
   ],
   "source": [
    "# area of a regular polygon, where its sides are all the same length and the angles between all of the adjacent sides are equal\n",
    "from math import pi, tan\n",
    "n=int(input(\"Enter the number of the sides of the polygon:\"))\n",
    "s=float(input(\"Enter the length of a side of the polygon:\"))\n",
    "area=(n*s**2)/(4*tan(pi/n))\n",
    "print(\"The area of the polygon is\", area)"
   ]
  },
  {
   "cell_type": "code",
   "execution_count": 11,
   "metadata": {},
   "outputs": [
    {
     "name": "stdout",
     "output_type": "stream",
     "text": [
      "Enter a number of seconds: 36598\n",
      "The equivalent duration is 0:10:09:58.\n"
     ]
    }
   ],
   "source": [
    "##\n",
    "# Convert a number of seconds to days, hours, minutes and seconds.\n",
    "#\n",
    "SECONDS_PER_DAY = 86400\n",
    "SECONDS_PER_HOUR = 3600\n",
    "SECONDS_PER_MINUTE = 60\n",
    "# Read the duration from the user in seconds\n",
    "seconds = int(input(\"Enter a number of seconds: \"))\n",
    "# Compute the days, hours, minutes and seconds\n",
    "days = seconds / SECONDS_PER_DAY\n",
    "seconds = seconds % SECONDS_PER_DAY\n",
    "hours = seconds / SECONDS_PER_HOUR\n",
    "seconds = seconds % SECONDS_PER_HOUR\n",
    "minutes = seconds / SECONDS_PER_MINUTE\n",
    "seconds = seconds % SECONDS_PER_MINUTE\n",
    "# Display the result with the desired formatting\n",
    "print(\"The equivalent duration is\", \\\n",
    "\"%d:%02d:%02d:%02d.\" % (days, hours, minutes, seconds))\n",
    "\n"
   ]
  },
  {
   "cell_type": "code",
   "execution_count": 16,
   "metadata": {},
   "outputs": [
    {
     "name": "stdout",
     "output_type": "stream",
     "text": [
      "When the wind blows in cold weather, the air feels even colder than it actually is because the movement of the air increases the rate of cooling for warm objects, like people. This effect is known as wind chill.\n",
      "The wind chill index is only considered valid for temperatures less than or equal to 10 degrees Celsius and wind speeds exceeding 4.8 kilometers per hour.\n",
      "Air temperature (degrees Celsius): 8\n",
      "Wind speed (kilometers per hour): 40\n",
      "The wind chill index is 3\n"
     ]
    }
   ],
   "source": [
    "##\n",
    "# Compute the wind chill index for a given air temperature and wind speed.\n",
    "\n",
    "print(\"When the wind blows in cold weather, the air feels even colder than it actually is because the movement of the air increases the rate of cooling for warm objects, like people. This effect is known as wind chill.\")\n",
    "print(\"The wind chill index is only considered valid for temperatures less than or equal to 10 degrees Celsius and wind speeds exceeding 4.8 kilometers per hour.\")\n",
    "\n",
    "WC_OFFSET=13.12\n",
    "WC_FACTOR1=0.6215\n",
    "WC_FACTOR2=-11.37\n",
    "WC_FACTOR3=0.3965\n",
    "WC_EXPONENT=0.16\n",
    "\n",
    "# Read the air temperature and wind speed from the user\n",
    "temp = float(input(\"Air temperature (degrees Celsius): \"))\n",
    "speed = float(input(\"Wind speed (kilometers per hour): \"))\n",
    "# Compute the wind chill index\n",
    "wci = (WC_OFFSET + WC_FACTOR1 * temp) + (WC_FACTOR2 * speed ** WC_EXPONENT) + (WC_FACTOR3 * temp * speed ** WC_EXPONENT)\n",
    "# Display the result rounded to the closest integer\n",
    "print(\"The wind chill index is\", round(wci))\n",
    "\n"
   ]
  },
  {
   "cell_type": "code",
   "execution_count": 17,
   "metadata": {},
   "outputs": [
    {
     "name": "stdout",
     "output_type": "stream",
     "text": [
      "Enter the first number: 481\n",
      "Enter the second number: 742\n",
      "Enter the third number: 479\n",
      "The numbers in sorted order are:\n",
      "  479\n",
      "  481\n",
      "  742\n"
     ]
    }
   ],
   "source": [
    "##\n",
    "# Sort 3 values entered by the user into increasing order.\n",
    "#\n",
    "# Read the numbers from the user, naming them a, b and c\n",
    "a = int(input(\"Enter the first number: \"))\n",
    "b = int(input(\"Enter the second number: \"))\n",
    "c = int(input(\"Enter the third number: \"))\n",
    "mn = min(a, b, c)\n",
    "mx = max(a, b, c)\n",
    "md = a + b + c - mn - mx\n",
    "# the minimum value\n",
    "# the maximum value\n",
    "# the middle value\n",
    "# Display the result\n",
    "print(\"The numbers in sorted order are:\")\n",
    "print(\" \", mn)\n",
    "print(\" \", md)\n",
    "print(\" \", mx)\n",
    "\n",
    "\n"
   ]
  },
  {
   "cell_type": "code",
   "execution_count": 18,
   "metadata": {},
   "outputs": [
    {
     "name": "stdout",
     "output_type": "stream",
     "text": [
      "Enter the number of day old loaves: 2\n",
      "Regular price:  6.98\n",
      "Discount:   4.19\n",
      "Total:   2.79\n"
     ]
    }
   ],
   "source": [
    "##\n",
    "# Compute the price of a day old bread order.\n",
    "#\n",
    "BREAD_PRICE = 3.49\n",
    "DISCOUNT_RATE = 0.60\n",
    "\n",
    "# Read the number of loaves from the user\n",
    "num_loaves = int(input(\"Enter the number of day old loaves: \"))\n",
    "\n",
    "# Compute the discount and total price\n",
    "regular_price = num_loaves * BREAD_PRICE\n",
    "discount = regular_price * DISCOUNT_RATE\n",
    "total = regular_price - discount\n",
    "\n",
    "# Display the result\n",
    "print(\"Regular price: %5.2f\" % regular_price)\n",
    "print(\"Discount:  %5.2f\" % discount)\n",
    "print(\"Total:  %5.2f\" % total)\n"
   ]
  },
  {
   "cell_type": "code",
   "execution_count": 21,
   "metadata": {},
   "outputs": [
    {
     "name": "stdout",
     "output_type": "stream",
     "text": [
      "Ask magic 8 ball a question8\n",
      "My reply is no\n"
     ]
    }
   ],
   "source": [
    "import random\n",
    "question = input(\"Ask magic 8 ball a question\")\n",
    "answer = random.randint(1,8)\n",
    "if answer == 1:\n",
    "    print(\"It is certain\")\n",
    "elif answer == 2:\n",
    "    print(\"Outlook good\")\n",
    "elif answer == 3:\n",
    "    print(\"You may rely on it\")\n",
    "elif answer == 4:\n",
    "    print(\"Ask again later\")\n",
    "elif answer == 5:\n",
    "    print(\"Concentrate and ask again\")\n",
    "elif answer == 6:\n",
    "    print(\"Reply hazy, try again\")\n",
    "elif answer == 7:\n",
    "    print (\"My reply is no\")\n",
    "elif answer == 8:\n",
    "    print (\"My sources say no\")\n",
    "else:\n",
    "    print(\"That's not a question\")\n",
    "    print (\"The end\")\n",
    "\n",
    "\n",
    "\n"
   ]
  },
  {
   "cell_type": "code",
   "execution_count": 22,
   "metadata": {},
   "outputs": [
    {
     "name": "stdout",
     "output_type": "stream",
     "text": [
      "-4\n",
      "4\n"
     ]
    }
   ],
   "source": [
    "# Returns the absolute value of number x (converts negative numbers to positive)\n",
    "\n",
    "x=-4\n",
    "y=abs(x)\n",
    "print(x)\n",
    "print(y)"
   ]
  },
  {
   "cell_type": "code",
   "execution_count": 29,
   "metadata": {},
   "outputs": [
    {
     "data": {
      "text/plain": [
       "3"
      ]
     },
     "execution_count": 29,
     "metadata": {},
     "output_type": "execute_result"
    }
   ],
   "source": [
    "import math\n",
    "math.ceil(2.678)\n"
   ]
  },
  {
   "cell_type": "code",
   "execution_count": 30,
   "metadata": {},
   "outputs": [
    {
     "data": {
      "text/plain": [
       "2"
      ]
     },
     "execution_count": 30,
     "metadata": {},
     "output_type": "execute_result"
    }
   ],
   "source": [
    "import math\n",
    "math.ceil(1.2)"
   ]
  },
  {
   "cell_type": "code",
   "execution_count": 35,
   "metadata": {},
   "outputs": [
    {
     "data": {
      "text/plain": [
       "-32.0"
      ]
     },
     "execution_count": 35,
     "metadata": {},
     "output_type": "execute_result"
    }
   ],
   "source": [
    "# Return x with the sign of y.\n",
    "\n",
    "import math\n",
    "math.copysign(32,-14)\n"
   ]
  },
  {
   "cell_type": "code",
   "execution_count": 36,
   "metadata": {},
   "outputs": [
    {
     "data": {
      "text/plain": [
       "2.45"
      ]
     },
     "execution_count": 36,
     "metadata": {},
     "output_type": "execute_result"
    }
   ],
   "source": [
    "# Return the absolute value of x.\n",
    "\n",
    "math.fabs(-2.45)"
   ]
  },
  {
   "cell_type": "code",
   "execution_count": 39,
   "metadata": {},
   "outputs": [
    {
     "data": {
      "text/plain": [
       "120"
      ]
     },
     "execution_count": 39,
     "metadata": {},
     "output_type": "execute_result"
    }
   ],
   "source": [
    "from math import factorial\n",
    "factorial(5)"
   ]
  },
  {
   "cell_type": "code",
   "execution_count": 40,
   "metadata": {},
   "outputs": [
    {
     "data": {
      "text/plain": [
       "2"
      ]
     },
     "execution_count": 40,
     "metadata": {},
     "output_type": "execute_result"
    }
   ],
   "source": [
    "import math\n",
    "math.floor(2.687)"
   ]
  },
  {
   "cell_type": "code",
   "execution_count": 41,
   "metadata": {},
   "outputs": [
    {
     "name": "stdout",
     "output_type": "stream",
     "text": [
      "-64/13\n",
      "256\n",
      "0\n",
      "2/5\n",
      "-5/7\n",
      "1337719/500000\n",
      "-131/4\n",
      "1/200\n",
      "4419157134357299/562949953421312\n",
      "2476979795053773/2251799813685248\n",
      "2476979795053773/2251799813685248\n",
      "11/10\n"
     ]
    }
   ],
   "source": [
    "from fractions import Fraction\n",
    "print(Fraction(128, -26))\n",
    "print(Fraction(256))\n",
    "print(Fraction())\n",
    "print(Fraction('2/5'))\n",
    "print(Fraction(' -5/7'))\n",
    "print(Fraction('2.675438 '))\n",
    "print(Fraction('-32.75'))\n",
    "print(Fraction('5e-3'))\n",
    "print(Fraction(7.85))\n",
    "print(Fraction(1.1))\n",
    "print(Fraction(2476979795053773, 2251799813685248))\n",
    "from decimal import Decimal\n",
    "print(Fraction(Decimal('1.1')))\n"
   ]
  },
  {
   "cell_type": "code",
   "execution_count": 45,
   "metadata": {},
   "outputs": [
    {
     "name": "stdout",
     "output_type": "stream",
     "text": [
      "(1, 2, 3, 4)\n"
     ]
    }
   ],
   "source": [
    "import math\n",
    "tup1=(1,2)\n",
    "tup2=(3,4)\n",
    "tup3=tup1+tup2\n",
    "print(tup3)\n"
   ]
  },
  {
   "cell_type": "code",
   "execution_count": 47,
   "metadata": {},
   "outputs": [
    {
     "name": "stdout",
     "output_type": "stream",
     "text": [
      "Binary representation 0b1111\n",
      "Binary representation 0b1111\n",
      "Binary representation 0b1111\n"
     ]
    }
   ],
   "source": [
    "# Returns a string representing the value of x converted to binary-bin().\n",
    "\n",
    "#  Integer 15 represented in decimal\n",
    "decimal = 15\n",
    "#  Integer 15 represented in hexadecimal\n",
    "hexadecimal = 0xf\n",
    "#  Integer 15 represented in octal\n",
    "octal = 0o17\n",
    "print(\"Binary representation\", bin(decimal))\n",
    "print(\"Binary representation\", bin(hexadecimal))\n",
    "print(\"Binary representation\", bin(octal))"
   ]
  },
  {
   "cell_type": "code",
   "execution_count": 50,
   "metadata": {},
   "outputs": [
    {
     "name": "stdout",
     "output_type": "stream",
     "text": [
      "999.9999\n",
      "-999\n",
      "999\n",
      "3.1416\n",
      "0b10000000\n",
      "0x80\n",
      "0o200\n",
      "128\n",
      "-999.9999\n",
      "<class 'float'>\n",
      "<class 'int'>\n",
      "<class 'str'>\n"
     ]
    }
   ],
   "source": [
    "import math\n",
    "pi=3.14159265358979\n",
    "x=128\n",
    "y=-345.67890987\n",
    "z=-999.9999\n",
    "print(abs(z))\n",
    "print(int(z))\n",
    "print(int(abs(z)))\n",
    "print(round(pi,4))\n",
    "print(bin(x))\n",
    "print(hex(x))\n",
    "print(oct(x))\n",
    "print(max(pi,x,y,z))\n",
    "print(min(pi,x,y,z))\n",
    "print(type(pi))\n",
    "print(type(x))\n",
    "print(type(str(y)))\n",
    "\n"
   ]
  },
  {
   "cell_type": "code",
   "execution_count": 51,
   "metadata": {},
   "outputs": [
    {
     "name": "stdout",
     "output_type": "stream",
     "text": [
      "3.141592653589793\n",
      "2.718281828459045\n",
      "6.283185307179586\n",
      "9.0\n",
      "5040\n",
      "-23235\n",
      "401.07045659157626\n",
      "0.7853981633974483\n"
     ]
    }
   ],
   "source": [
    "# math.acos(x)  Returns the arc cosine of x in radians.\n",
    "# math.atan(x)  Returns the arc tangent of x, in radians.\n",
    "# math.atan2(y,x)  Returns atan(y / x), in radians.\n",
    "# math.ceil(x)  Returns the ceiling of x, the smallest integer greater than or equal to x.\n",
    "# math.cos(x)  Returns the cosine of x radians.\n",
    "# math.degrees(x) Converts angle x from radians to degrees.\n",
    "# math.e       Returns the mathematical constant e (2.718281 . . .).\n",
    "# math.exp(x)  Returns e raised to the power x, where e is the base of natural logarithms.\n",
    "# math.factorial(x) Returns the factorial of x.\n",
    "# math.floor()  Returns the floor of x, the largest integer less than or equal to x.\n",
    "# math.isnan(x)  Returns True if x is not a number, otherwise returns False.\n",
    "# math.log(x,y)  Returns the natural logarithm of x to base y.\n",
    "# math.log2(x)   Returns the base-2 logarithm of x.\n",
    "# math.pi        Returns the mathematical constant pi (3.141592 . . .).\n",
    "# math.pow(x, y) Returns x raised to the power y.\n",
    "# math.radians(x)  Converts angle x from degrees to radians.\n",
    "# math.sin(x)   Returns the arc sine of x, in radians.\n",
    "# math.sqrt(x)  Takes any number of numeric arguments and returns whichever one is the smallest.\n",
    "# math.tan(x)   Returns the tangent of x radians.\n",
    "# math.tau()    Returns the mathematical constant tau (6.283185 . . .).\n",
    "\n",
    "import math\n",
    "pi=math.pi\n",
    "e=math.e\n",
    "tau=math.tau\n",
    "x=81\n",
    "y=7\n",
    "z=-23234.5454\n",
    "print(pi)\n",
    "print(e)\n",
    "print(tau)\n",
    "print(math.sqrt(x))\n",
    "print(math.factorial(y))\n",
    "print(math.floor(z))\n",
    "print(math.degrees(y))\n",
    "print(math.radians(45))\n"
   ]
  },
  {
   "cell_type": "code",
   "execution_count": 52,
   "metadata": {},
   "outputs": [
    {
     "name": "stdout",
     "output_type": "stream",
     "text": [
      "Subtotal: $1,499.70\n"
     ]
    }
   ],
   "source": [
    "unit_price = 49.99\n",
    "quantity = 30\n",
    "print(f\"Subtotal: ${quantity * unit_price:,.2f}\")\n"
   ]
  },
  {
   "cell_type": "code",
   "execution_count": 56,
   "metadata": {},
   "outputs": [
    {
     "name": "stdout",
     "output_type": "stream",
     "text": [
      "Sales Tax Rate 6.50%\n",
      "Sales Tax Rate 6.5%\n",
      "Sales Tax Rate 6.500000000%\n"
     ]
    }
   ],
   "source": [
    "sales_tax_rate = 0.065\n",
    "print(f\"Sales Tax Rate {sales_tax_rate:.2%}\")\n",
    "print(f\"Sales Tax Rate {sales_tax_rate:.1%}\")\n",
    "print(f\"Sales Tax Rate {sales_tax_rate:.9%}\")\n"
   ]
  },
  {
   "cell_type": "code",
   "execution_count": 57,
   "metadata": {},
   "outputs": [
    {
     "name": "stdout",
     "output_type": "stream",
     "text": [
      "Alberto \n",
      "Babs \n",
      "Carlos\n"
     ]
    }
   ],
   "source": [
    "user1 = \"Alberto\"\n",
    "user2 = \"Babs\"\n",
    "user3 = \"Carlos\"\n",
    "output=f\"{user1} \\n{user2} \\n{user3}\"\n",
    "print(output)\n"
   ]
  },
  {
   "cell_type": "code",
   "execution_count": 58,
   "metadata": {},
   "outputs": [
    {
     "name": "stdout",
     "output_type": "stream",
     "text": [
      "\n",
      "Subtotal: $1,598.40\n",
      "Sales Tax: $103.90\n",
      "Total: $1,702.30\n",
      "\n"
     ]
    }
   ],
   "source": [
    "unit_price=49.95\n",
    "quantity=32\n",
    "sales_tax_rate=0.065\n",
    "subtotal=quantity*unit_price\n",
    "sales_tax=sales_tax_rate*subtotal\n",
    "total=subtotal+sales_tax\n",
    "output=f\"\"\"\n",
    "Subtotal: ${subtotal:,.2f}\n",
    "Sales Tax: ${sales_tax:,.2f}\n",
    "Total: ${total:,.2f}\n",
    "\"\"\"\n",
    "print(output)"
   ]
  },
  {
   "cell_type": "code",
   "execution_count": 66,
   "metadata": {},
   "outputs": [
    {
     "name": "stdout",
     "output_type": "stream",
     "text": [
      "\n",
      "Subtotal: $    1,598.40\n",
      "Sales Tax: $   103.90\n",
      "Total: $       1,702.30\n",
      "\n"
     ]
    }
   ],
   "source": [
    "# all dollar amounts are right-aligned within a width of 9 characters (>9)\n",
    "\n",
    "unit_price=49.95\n",
    "quantity=32\n",
    "sales_tax_rate=0.065\n",
    "subtotal=quantity*unit_price\n",
    "sales_tax=sales_tax_rate*subtotal\n",
    "total=subtotal+sales_tax\n",
    "output=f\"\"\"\n",
    "Subtotal: ${subtotal:>12,.2f}\n",
    "Sales Tax: ${sales_tax:>9,.2f}\n",
    "Total: ${total:>15,.2f}\n",
    "\"\"\"\n",
    "print(output)\n"
   ]
  },
  {
   "cell_type": "code",
   "execution_count": 64,
   "metadata": {},
   "outputs": [
    {
     "name": "stdout",
     "output_type": "stream",
     "text": [
      "\n",
      "Subtotal: $1,598.40\n",
      "Sales Tax:   $103.90\n",
      "Subtotal: $1,702.30\n",
      "\n"
     ]
    }
   ],
   "source": [
    "# all the dollar amounts neatly aligned\n",
    "\n",
    "unit_price=49.95\n",
    "quantity=32\n",
    "sales_tax_rate=0.065\n",
    "subtotal=quantity*unit_price\n",
    "sales_tax=sales_tax_rate*subtotal\n",
    "total=subtotal+sales_tax\n",
    "s_subtotal= \"$\" + f\"{subtotal:,.2f}\"\n",
    "s_sales_tax=\"$\" + f\"{sales_tax:,.2f}\"\n",
    "s_total=\"$\" + f\"{total:,.2f}\"\n",
    "output=f\"\"\"\n",
    "Subtotal: {s_subtotal:>9}\n",
    "Sales Tax: {s_sales_tax:>9}\n",
    "Subtotal: {s_total:>9}\n",
    "\"\"\"\n",
    "print(output)\n"
   ]
  },
  {
   "cell_type": "code",
   "execution_count": 68,
   "metadata": {},
   "outputs": [
    {
     "name": "stdout",
     "output_type": "stream",
     "text": [
      "True\n",
      "False\n",
      "True\n",
      "---------------\n",
      "A\n",
      "turtle\n",
      "AadrHuPuy' tt v\n",
      " \n",
      "y\n",
      "18\n",
      "25\n",
      "5\n"
     ]
    }
   ],
   "source": [
    "s=\"Abracadabra Hocus Pocus you're a turtle dove\"\n",
    "# Is there a lowercase letter t is contained in s?\n",
    "print(\"t\" in s)\n",
    "#Is there an uppercase letter t is contained in s?\n",
    "print(\"T\" in s)\n",
    "#Is there no uppercase T in s?\n",
    "print(\"T\" not in s)\n",
    "#Print 15 hypens in a row\n",
    "print(\"-\"*15)\n",
    "#Print first character in string X\n",
    "print(s[0])\n",
    "#Print characters 33-39 from string x\n",
    "print(s[33:39])\n",
    "#Print every third character in s starting at zero\n",
    "print(s[0:44:3])\n",
    "#Print lowest character is s (a space is lower than the letter a)\n",
    "print(min(s))\n",
    "#Print the highest character is s\n",
    "print(max(s))\n",
    "#Where is the first uppercase P?\n",
    "print(s.index(\"P\"))\n",
    "#Where is the first lowercase o in the latter half of string s\n",
    "#Note that the returned value still starts counting from zero \n",
    "print(s.index(\"o\",22,44))\n",
    "#How many lowercase letters a are in string s?\n",
    "print(s.count(\"a\"))\n",
    "\n"
   ]
  }
 ],
 "metadata": {
  "kernelspec": {
   "display_name": "Python 3",
   "language": "python",
   "name": "python3"
  },
  "language_info": {
   "codemirror_mode": {
    "name": "ipython",
    "version": 3
   },
   "file_extension": ".py",
   "mimetype": "text/x-python",
   "name": "python",
   "nbconvert_exporter": "python",
   "pygments_lexer": "ipython3",
   "version": "3.8.5"
  }
 },
 "nbformat": 4,
 "nbformat_minor": 4
}
